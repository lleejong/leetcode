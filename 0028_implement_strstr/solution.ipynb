{
  "cells": [
    {
      "cell_type": "code",
      "execution_count": 1,
      "metadata": {
        "collapsed": true,
        "pycharm": {
          "is_executing": false
        }
      },
      "outputs": [],
      "source": "class Solution:\n    def strStr(self, haystack: str, needle: str) -\u003e int:\n        haystack_len \u003d len(haystack)\n        needle_len \u003d len(needle)\n\n        if needle_len \u003d\u003d 0:\n            return 0\n\n        if haystack_len \u003c needle_len:\n            return -1\n\n        for i in range(0, haystack_len):\n            j \u003d 0\n            if not (haystack_len - i) \u003e\u003d needle_len:\n                return -1\n            while j \u003c needle_len:\n                if haystack[i + j] \u003d\u003d needle[j]:\n                    j +\u003d 1\n                else:\n                    break\n            if j \u003d\u003d needle_len:\n                return i\n            else:\n                i +\u003d j\n        return -1"
    },
    {
      "cell_type": "code",
      "execution_count": 2,
      "outputs": [],
      "source": "sol \u003d Solution()",
      "metadata": {
        "pycharm": {
          "metadata": false,
          "name": "#%%\n",
          "is_executing": false
        }
      }
    },
    {
      "cell_type": "code",
      "execution_count": 3,
      "outputs": [
        {
          "data": {
            "text/plain": "2"
          },
          "metadata": {},
          "output_type": "execute_result",
          "execution_count": 3
        }
      ],
      "source": "sol.strStr(\"hello\",\"ll\")",
      "metadata": {
        "pycharm": {
          "metadata": false,
          "name": "#%%\n",
          "is_executing": false
        }
      }
    },
    {
      "cell_type": "code",
      "execution_count": 4,
      "outputs": [
        {
          "data": {
            "text/plain": "0"
          },
          "metadata": {},
          "output_type": "execute_result",
          "execution_count": 4
        }
      ],
      "source": "sol.strStr(\"a\",\"a\")",
      "metadata": {
        "pycharm": {
          "metadata": false,
          "name": "#%%\n",
          "is_executing": false
        }
      }
    },
    {
      "cell_type": "code",
      "execution_count": 5,
      "outputs": [
        {
          "data": {
            "text/plain": "-1"
          },
          "metadata": {},
          "output_type": "execute_result",
          "execution_count": 5
        }
      ],
      "source": "sol.strStr(\"aaaaa\",\"aab\")\n",
      "metadata": {
        "pycharm": {
          "metadata": false,
          "name": "#%%\n",
          "is_executing": false
        }
      }
    }
  ],
  "metadata": {
    "language_info": {
      "codemirror_mode": {
        "name": "ipython",
        "version": 2
      },
      "file_extension": ".py",
      "mimetype": "text/x-python",
      "name": "python",
      "nbconvert_exporter": "python",
      "pygments_lexer": "ipython2",
      "version": "2.7.6"
    },
    "kernelspec": {
      "name": "python3",
      "language": "python",
      "display_name": "Python 3"
    }
  },
  "nbformat": 4,
  "nbformat_minor": 0
}