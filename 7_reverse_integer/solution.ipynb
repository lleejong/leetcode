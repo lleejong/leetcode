{
 "cells": [
  {
   "cell_type": "code",
   "execution_count": 52,
   "metadata": {
    "collapsed": true
   },
   "outputs": [],
   "source": [
    "def reverse(x: int) -> int:\n",
    "    if not isValidRange(x):\n",
    "        return 0\n",
    "    is_positive = (x > 0)\n",
    "    if not is_positive:\n",
    "        x *= -1\n",
    "    result = 0\n",
    "    stack = []\n",
    "    while x > 0:\n",
    "        stack.append(x % 10)\n",
    "        x = (int)(x / 10)\n",
    "\n",
    "    stack.reverse()\n",
    "    while len(stack) > 0:\n",
    "        result = (result * 10) + stack.pop()\n",
    "\n",
    "    if not is_positive:\n",
    "        result *= -1 \n",
    "    if not isValidRange(result):\n",
    "        return 0\n",
    "    return result\n"
   ]
  },
  {
   "cell_type": "code",
   "execution_count": 53,
   "metadata": {},
   "outputs": [],
   "source": [
    "def isValidRange(x: int) -> bool:\n",
    "    if (-pow(2, 31) >= x) | (x >= (pow(2, 31) - 1) ):\n",
    "        return False\n",
    "    else:\n",
    "        return True"
   ]
  },
  {
   "cell_type": "code",
   "execution_count": 54,
   "metadata": {},
   "outputs": [
    {
     "data": {
      "text/plain": [
       "321"
      ]
     },
     "execution_count": 54,
     "metadata": {},
     "output_type": "execute_result"
    }
   ],
   "source": [
    "reverse(123)"
   ]
  },
  {
   "cell_type": "code",
   "execution_count": 55,
   "metadata": {},
   "outputs": [
    {
     "data": {
      "text/plain": [
       "0"
      ]
     },
     "execution_count": 55,
     "metadata": {},
     "output_type": "execute_result"
    }
   ],
   "source": [
    "reverse(1534236469)"
   ]
  }
 ],
 "metadata": {
  "kernelspec": {
   "display_name": "Python 2",
   "language": "python",
   "name": "python2"
  },
  "language_info": {
   "codemirror_mode": {
    "name": "ipython",
    "version": 2
   },
   "file_extension": ".py",
   "mimetype": "text/x-python",
   "name": "python",
   "nbconvert_exporter": "python",
   "pygments_lexer": "ipython2",
   "version": "2.7.6"
  }
 },
 "nbformat": 4,
 "nbformat_minor": 0
}
