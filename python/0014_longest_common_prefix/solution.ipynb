{
  "cells": [
    {
      "cell_type": "code",
      "execution_count": 8,
      "outputs": [],
      "source": "import sys\nfrom typing import List",
      "metadata": {
        "pycharm": {
          "metadata": false,
          "name": "#%%\n",
          "is_executing": false
        }
      }
    },
    {
      "cell_type": "code",
      "execution_count": 9,
      "outputs": [],
      "source": "class Solution:\n    def longestCommonPrefix(self, strs: List[str]) -\u003e str:\n        result \u003d \"\"\n        min_len \u003d sys.maxsize\n        for word in strs:\n            if min_len \u003e len(word):\n                min_len \u003d len(word)\n\n        current_char \u003d \u0027\u0027\n        for i in range(0, min_len):\n            current_char \u003d strs[0][i]\n            is_same \u003d True\n            for j in range(1, len(strs)):\n                if not current_char \u003d\u003d strs[j][i]:\n                    is_same \u003d False\n                    break\n            if not is_same:\n                return result\n            else:\n                result +\u003d current_char\n\n        return result",
      "metadata": {
        "pycharm": {
          "metadata": false,
          "name": "#%%\n",
          "is_executing": false
        }
      }
    },
    {
      "cell_type": "code",
      "execution_count": 10,
      "outputs": [],
      "source": "sol \u003d Solution()",
      "metadata": {
        "pycharm": {
          "metadata": false,
          "name": "#%%\n",
          "is_executing": false
        }
      }
    },
    {
      "cell_type": "code",
      "execution_count": 11,
      "outputs": [
        {
          "data": {
            "text/plain": "\u0027fl\u0027"
          },
          "metadata": {},
          "output_type": "execute_result",
          "execution_count": 11
        }
      ],
      "source": "sol.longestCommonPrefix([\"flower\",\"flow\",\"flight\"])",
      "metadata": {
        "pycharm": {
          "metadata": false,
          "name": "#%%\n",
          "is_executing": false
        }
      }
    },
    {
      "cell_type": "code",
      "execution_count": 12,
      "outputs": [
        {
          "data": {
            "text/plain": "\u0027\u0027"
          },
          "metadata": {},
          "output_type": "execute_result",
          "execution_count": 12
        }
      ],
      "source": "sol.longestCommonPrefix([\"dog\",\"racecar\",\"car\"])\n",
      "metadata": {
        "pycharm": {
          "metadata": false,
          "name": "#%%\n",
          "is_executing": false
        }
      }
    }
  ],
  "metadata": {
    "language_info": {
      "codemirror_mode": {
        "name": "ipython",
        "version": 2
      },
      "file_extension": ".py",
      "mimetype": "text/x-python",
      "name": "python",
      "nbconvert_exporter": "python",
      "pygments_lexer": "ipython2",
      "version": "2.7.6"
    },
    "kernelspec": {
      "name": "python3",
      "language": "python",
      "display_name": "Python 3"
    },
    "stem_cell": {
      "cell_type": "raw",
      "source": "",
      "metadata": {
        "pycharm": {
          "metadata": false
        }
      }
    }
  },
  "nbformat": 4,
  "nbformat_minor": 0
}