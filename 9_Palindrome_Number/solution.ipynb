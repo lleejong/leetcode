{
 "cells": [
  {
   "cell_type": "code",
   "execution_count": 2,
   "metadata": {
    "collapsed": true
   },
   "outputs": [],
   "source": [
    "class Solution:\n",
    "    def isPalindrome(self, x: int) -> bool:\n",
    "        if x < 0:\n",
    "            return False\n",
    "        reversed_x = self.reverse(x)\n",
    "        if reversed_x == x :\n",
    "            return True\n",
    "        return False\n",
    "\n",
    "    def reverse(self, x: int) -> int:\n",
    "        if not self.isValidRange(x):\n",
    "            return 0\n",
    "        is_positive = (x > 0)\n",
    "        if not is_positive:\n",
    "            x *= -1\n",
    "        result = 0\n",
    "        stack = []\n",
    "        while x > 0:\n",
    "            stack.append(x % 10)\n",
    "            x = (int)(x / 10)\n",
    "\n",
    "        stack.reverse()\n",
    "        while len(stack) > 0:\n",
    "            result = (result * 10) + stack.pop()\n",
    "\n",
    "        if not is_positive:\n",
    "            result *= -1\n",
    "        if not self.isValidRange(result):\n",
    "            return 0\n",
    "        return result\n",
    "\n",
    "    def isValidRange(self, x: int) -> bool:\n",
    "        if (-pow(2, 31) >= x) | (x >= (pow(2, 31) - 1) ):\n",
    "            return False\n",
    "        else:\n",
    "            return True"
   ]
  },
  {
   "cell_type": "code",
   "execution_count": 4,
   "metadata": {},
   "outputs": [
    {
     "data": {
      "text/plain": [
       "True"
      ]
     },
     "execution_count": 4,
     "metadata": {},
     "output_type": "execute_result"
    }
   ],
   "source": [
    "sol = Solution()\n",
    "sol.isPalindrome(121)"
   ]
  }
 ],
 "metadata": {
  "kernelspec": {
   "display_name": "Python 2",
   "language": "python",
   "name": "python2"
  },
  "language_info": {
   "codemirror_mode": {
    "name": "ipython",
    "version": 2
   },
   "file_extension": ".py",
   "mimetype": "text/x-python",
   "name": "python",
   "nbconvert_exporter": "python",
   "pygments_lexer": "ipython2",
   "version": "2.7.6"
  }
 },
 "nbformat": 4,
 "nbformat_minor": 0
}
