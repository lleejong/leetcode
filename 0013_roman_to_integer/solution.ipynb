{
  "cells": [
    {
      "cell_type": "code",
      "execution_count": 2,
      "metadata": {
        "collapsed": true,
        "pycharm": {
          "name": "#%%\n",
          "is_executing": false
        }
      },
      "outputs": [],
      "source": "class Solution:\n    roman_int_map \u003d {}\n\n    def __init__(self):\n        self.roman_int_map[\u0027I\u0027] \u003d 1\n        self.roman_int_map[\u0027V\u0027] \u003d 5\n        self.roman_int_map[\u0027X\u0027] \u003d 10\n        self.roman_int_map[\u0027L\u0027] \u003d 50\n        self.roman_int_map[\u0027C\u0027] \u003d 100\n        self.roman_int_map[\u0027D\u0027] \u003d 500\n        self.roman_int_map[\u0027M\u0027] \u003d 1000\n\n    def romanToInt(self, s: str) -\u003e int:\n        sum \u003d 0\n\n        for i in range(0, len(s) - 1):\n            if self.roman_int_map[s[i]] \u003e\u003d self.roman_int_map[s[i + 1]]:\n                sum +\u003d self.roman_int_map[s[i]]\n            else:\n                sum -\u003d self.roman_int_map[s[i]]\n\n        sum +\u003d self.roman_int_map[s[len(s) - 1]]\n        return sum            "
    },
    {
      "cell_type": "code",
      "execution_count": 5,
      "metadata": {
        "pycharm": {
          "is_executing": false
        }
      },
      "outputs": [],
      "source": "sol \u003d Solution()"
    },
    {
      "cell_type": "code",
      "execution_count": 6,
      "outputs": [
        {
          "data": {
            "text/plain": "3"
          },
          "metadata": {},
          "output_type": "execute_result",
          "execution_count": 6
        }
      ],
      "source": "sol.romanToInt(\"III\")",
      "metadata": {
        "pycharm": {
          "metadata": false,
          "name": "#%%\n",
          "is_executing": false
        }
      }
    },
    {
      "cell_type": "code",
      "execution_count": 7,
      "outputs": [
        {
          "data": {
            "text/plain": "4"
          },
          "metadata": {},
          "output_type": "execute_result",
          "execution_count": 7
        }
      ],
      "source": "sol.romanToInt(\"IV\")",
      "metadata": {
        "pycharm": {
          "metadata": false,
          "name": "#%%\n",
          "is_executing": false
        }
      }
    },
    {
      "cell_type": "code",
      "execution_count": 8,
      "outputs": [
        {
          "data": {
            "text/plain": "9"
          },
          "metadata": {},
          "output_type": "execute_result",
          "execution_count": 8
        }
      ],
      "source": "sol.romanToInt(\"IX\")",
      "metadata": {
        "pycharm": {
          "metadata": false,
          "name": "#%%\n",
          "is_executing": false
        }
      }
    },
    {
      "cell_type": "code",
      "execution_count": 10,
      "outputs": [
        {
          "data": {
            "text/plain": "58"
          },
          "metadata": {},
          "output_type": "execute_result",
          "execution_count": 10
        }
      ],
      "source": "sol.romanToInt(\"LVIII\")",
      "metadata": {
        "pycharm": {
          "metadata": false,
          "name": "#%%\n",
          "is_executing": false
        }
      }
    },
    {
      "cell_type": "code",
      "execution_count": 9,
      "outputs": [
        {
          "data": {
            "text/plain": "1994"
          },
          "metadata": {},
          "output_type": "execute_result",
          "execution_count": 9
        }
      ],
      "source": "sol.romanToInt(\"MCMXCIV\")\n",
      "metadata": {
        "pycharm": {
          "metadata": false,
          "name": "#%%\n",
          "is_executing": false
        }
      }
    }
  ],
  "metadata": {
    "kernelspec": {
      "name": "python3",
      "language": "python",
      "display_name": "Python 3"
    },
    "language_info": {
      "codemirror_mode": {
        "name": "ipython",
        "version": 2
      },
      "file_extension": ".py",
      "mimetype": "text/x-python",
      "name": "python",
      "nbconvert_exporter": "python",
      "pygments_lexer": "ipython2",
      "version": "2.7.6"
    }
  },
  "nbformat": 4,
  "nbformat_minor": 0
}