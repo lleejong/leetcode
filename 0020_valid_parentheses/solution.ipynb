{
  "cells": [
    {
      "cell_type": "code",
      "execution_count": 2,
      "metadata": {
        "collapsed": true,
        "pycharm": {
          "is_executing": false
        }
      },
      "outputs": [],
      "source": "class Solution:\n    paring_map \u003d {}\n\n    def __init__(self):\n        self.paring_map[\u0027(\u0027] \u003d \u0027)\u0027\n        self.paring_map[\u0027)\u0027] \u003d \u0027(\u0027\n        self.paring_map[\u0027{\u0027] \u003d \u0027}\u0027\n        self.paring_map[\u0027}\u0027] \u003d \u0027{\u0027\n        self.paring_map[\u0027[\u0027] \u003d \u0027]\u0027\n        self.paring_map[\u0027]\u0027] \u003d \u0027[\u0027\n\n    def is_starting_bracket(self, s: str):\n        if not len(s) \u003d\u003d 1:\n            return False\n        return s[0] \u003d\u003d \u0027(\u0027 or s[0] \u003d\u003d \u0027{\u0027 or s[0] \u003d\u003d \u0027[\u0027\n\n    def is_ending_bracket(self, s: str):\n        if not len(s) \u003d\u003d 1:\n            return False\n        return s[0] \u003d\u003d \u0027)\u0027 or s[0] \u003d\u003d \u0027}\u0027 or s[0] \u003d\u003d \u0027]\u0027\n\n    def isValid(self, s: str) -\u003e bool:\n        starting_brackets \u003d []\n        for i in range(0, len(s)):\n            current_char \u003d s[i]\n            if self.is_starting_bracket(current_char):\n                starting_brackets.append(current_char)\n            elif self.is_ending_bracket(current_char):\n                size \u003d len(starting_brackets)\n                if size \u003d\u003d 0:\n                    return False\n\n                # pop last element\n                elif not starting_brackets.pop() \u003d\u003d self.paring_map[\n                    current_char]:\n                    return False\n\n        if not len(starting_brackets) \u003d\u003d 0:\n            return False\n        return True"
    },
    {
      "cell_type": "code",
      "execution_count": 3,
      "outputs": [],
      "source": "sol \u003d Solution()",
      "metadata": {
        "pycharm": {
          "metadata": false,
          "name": "#%%\n",
          "is_executing": false
        }
      }
    },
    {
      "cell_type": "code",
      "execution_count": 4,
      "outputs": [
        {
          "data": {
            "text/plain": "True"
          },
          "metadata": {},
          "output_type": "execute_result",
          "execution_count": 4
        }
      ],
      "source": "sol.isValid(\"()\")",
      "metadata": {
        "pycharm": {
          "metadata": false,
          "name": "#%%\n",
          "is_executing": false
        }
      }
    },
    {
      "cell_type": "code",
      "execution_count": 5,
      "outputs": [
        {
          "data": {
            "text/plain": "True"
          },
          "metadata": {},
          "output_type": "execute_result",
          "execution_count": 5
        }
      ],
      "source": "sol.isValid(\"()[]{}\")",
      "metadata": {
        "pycharm": {
          "metadata": false,
          "name": "#%%\n",
          "is_executing": false
        }
      }
    },
    {
      "cell_type": "code",
      "execution_count": 7,
      "outputs": [
        {
          "data": {
            "text/plain": "False"
          },
          "metadata": {},
          "output_type": "execute_result",
          "execution_count": 7
        }
      ],
      "source": "sol.isValid(\"(]\")",
      "metadata": {
        "pycharm": {
          "metadata": false,
          "name": "#%%\n",
          "is_executing": false
        }
      }
    },
    {
      "cell_type": "code",
      "execution_count": 6,
      "outputs": [
        {
          "data": {
            "text/plain": "False"
          },
          "metadata": {},
          "output_type": "execute_result",
          "execution_count": 6
        }
      ],
      "source": "sol.isValid(\"([)]\")",
      "metadata": {
        "pycharm": {
          "metadata": false,
          "name": "#%%\n",
          "is_executing": false
        }
      }
    },
    {
      "cell_type": "code",
      "execution_count": 8,
      "outputs": [
        {
          "data": {
            "text/plain": "True"
          },
          "metadata": {},
          "output_type": "execute_result",
          "execution_count": 8
        }
      ],
      "source": "sol.isValid(\"{[]}\")\n",
      "metadata": {
        "pycharm": {
          "metadata": false,
          "name": "#%%\n",
          "is_executing": false
        }
      }
    }
  ],
  "metadata": {
    "language_info": {
      "codemirror_mode": {
        "name": "ipython",
        "version": 2
      },
      "file_extension": ".py",
      "mimetype": "text/x-python",
      "name": "python",
      "nbconvert_exporter": "python",
      "pygments_lexer": "ipython2",
      "version": "2.7.6"
    },
    "kernelspec": {
      "name": "python3",
      "language": "python",
      "display_name": "Python 3"
    }
  },
  "nbformat": 4,
  "nbformat_minor": 0
}